{
  "nbformat": 4,
  "nbformat_minor": 0,
  "metadata": {
    "colab": {
      "provenance": [],
      "authorship_tag": "ABX9TyPM4cnutWyhYRPLJZC/8pN1",
      "include_colab_link": true
    },
    "kernelspec": {
      "name": "python3",
      "display_name": "Python 3"
    },
    "language_info": {
      "name": "python"
    }
  },
  "cells": [
    {
      "cell_type": "markdown",
      "metadata": {
        "id": "view-in-github",
        "colab_type": "text"
      },
      "source": [
        "<a href=\"https://colab.research.google.com/github/2110030353-Akshith/PFSD/blob/main/SEproject.ipynb\" target=\"_parent\"><img src=\"https://colab.research.google.com/assets/colab-badge.svg\" alt=\"Open In Colab\"/></a>"
      ]
    },
    {
      "cell_type": "code",
      "execution_count": 2,
      "metadata": {
        "colab": {
          "base_uri": "https://localhost:8080/"
        },
        "id": "h6DCuc2nLrA5",
        "outputId": "261f5145-9152-4688-ad08-e7ff790187af"
      },
      "outputs": [
        {
          "output_type": "stream",
          "name": "stdout",
          "text": [
            "Enter a choice (rock, paper, scissors): rock\n",
            "\n",
            "You chose rock, computer chose rock.\n",
            "\n",
            "Both players selected rock. It's a tie!\n"
          ]
        }
      ],
      "source": [
        "import random\n",
        "user_action = input(\"Enter a choice (rock, paper, scissors): \")\n",
        "possible_actions = [\"rock\", \"paper\", \"scissors\"]\n",
        "computer_action = random.choice(possible_actions)\n",
        "print(f\"\\nYou chose {user_action}, computer chose {computer_action}.\\n\")\n",
        "if user_action == computer_action:\n",
        "  print(f\"Both players selected {user_action}. It's a tie!\")\n",
        "elif user_action == \"rock\":\n",
        "  if computer_action == \"scissors\":\n",
        "    print(\"Rock smashes scissors! You win!\")\n",
        "  else:\n",
        "    print(\"Paper covers rock! You lose.\")\n",
        "elif user_action == \"paper\":\n",
        "  if computer_action == \"rock\":\n",
        "    print(\"Paper covers rock! You win!\")\n",
        "  else:\n",
        "    print(\"Scissors cuts paper! You lose.\")\n",
        "elif user_action == \"scissors\":\n",
        "  if computer_action == \"paper\":\n",
        "    print(\"Scissors cuts paper! You win!\")\n",
        "  else:\n",
        "    print(\"Rock smashes scissors! You lose.\")"
      ]
    }
  ]
}